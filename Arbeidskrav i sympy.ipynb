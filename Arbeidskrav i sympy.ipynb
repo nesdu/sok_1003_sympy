{
 "cells": [
  {
   "cell_type": "code",
   "execution_count": null,
   "id": "64adf659-c39d-42ed-9257-1f00b5740e10",
   "metadata": {},
   "outputs": [],
   "source": [
    "# Laget av Nesta Ndungu"
   ]
  },
  {
   "cell_type": "code",
   "execution_count": 5,
   "id": "db55f96a-e55d-4858-bad8-c52579934664",
   "metadata": {},
   "outputs": [],
   "source": [
    "import matplotlib.pyplot as plt\n",
    "import numpy as np\n",
    "import sympy as sp\n",
    "from IPython.display import Markdown\n",
    "from sympy.solvers import solve"
   ]
  },
  {
   "cell_type": "code",
   "execution_count": 6,
   "id": "3c9e733f-5708-441c-8ffd-4f7d71791ae5",
   "metadata": {},
   "outputs": [
    {
     "data": {
      "text/plain": [
       "{x: -1, y: 2}"
      ]
     },
     "execution_count": 6,
     "metadata": {},
     "output_type": "execute_result"
    }
   ],
   "source": [
    "# Oppgave 15a\n",
    "\n",
    "x,y=sp.symbols(\"x y\")\n",
    "symbols=[x,y]\n",
    "equations=[\n",
    "    sp.Eq(2*x+4*y,6),\n",
    "    sp.Eq(-2*x+y,4)\n",
    "]\n",
    "\n",
    "solve(equations,symbols)"
   ]
  },
  {
   "cell_type": "code",
   "execution_count": 11,
   "id": "83a1ae1c-f120-4837-9d0d-d1a734b48e0c",
   "metadata": {},
   "outputs": [
    {
     "data": {
      "text/plain": [
       "[(-1, -1), (2, 5)]"
      ]
     },
     "execution_count": 11,
     "metadata": {},
     "output_type": "execute_result"
    }
   ],
   "source": [
    "# Oppgave 15b\n",
    "\n",
    "x,y=sp.symbols(\"x y\")\n",
    "symbols=[x,y]\n",
    "equations2=[\n",
    "    sp.Eq(2*x-y,-1),\n",
    "    sp.Eq(x**2+x-y,1)\n",
    "]\n",
    "\n",
    "solve(equations2,symbols)"
   ]
  }
 ],
 "metadata": {
  "kernelspec": {
   "display_name": "Python 3 (ipykernel)",
   "language": "python",
   "name": "python3"
  },
  "language_info": {
   "codemirror_mode": {
    "name": "ipython",
    "version": 3
   },
   "file_extension": ".py",
   "mimetype": "text/x-python",
   "name": "python",
   "nbconvert_exporter": "python",
   "pygments_lexer": "ipython3",
   "version": "3.9.13"
  }
 },
 "nbformat": 4,
 "nbformat_minor": 5
}
